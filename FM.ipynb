{
 "cells": [
  {
   "cell_type": "markdown",
   "metadata": {},
   "source": [
    "# 因子分解机FM\n",
    "   因子分解机（Factorization Machines） 是由 Steffen Rendle于2010年提出一种因子分解模型，其目的是解决传统的因子分解模型的一些缺点:  \n",
    "   首先，传统的因子模型,每遇到一种新问题,都需要在矩阵分解的基础上建立一个新模型(例如SVD)，推导出新的参数学习算法，并在学习参数过程中调节各种参数。以至于这些因子分解模型对于那些对因子分解模型的使用不是很熟悉的人来说是费事、耗力、易错的。  \n",
    "   其次，传统的因子分解模型不能很好地利用特征工程法（feature engineering）来完成学习任务。在实际的机器学习任务中，常用的方法是首先用特征向量来表示数据，然后用一些开源工具LibSVM或Weka等工具进行学习，方便地完成分类或决策任务。  \n",
    "   FM的优势在于它能够通过特征向量去模拟因子分解模型它既结合了特征工程法的普遍性和适用性，又能够利用因子分解模型对不同类别的变量之间的交互作用（interaction)进行建模估计，借助开源实现工具libFM，能够快速地完成学习任务，取得很好的精度。将这一模型命名为因子分解机，作者正是希望该模型能像支撑向量机那样简单、易用、高精度。  "
   ]
  },
  {
   "cell_type": "markdown",
   "metadata": {},
   "source": [
    "## 代码实现(调包)\n",
    "### 安装\n",
    "``` powershell\n",
    "pip install git+https://github.com/coreylynch/pyFM\n",
    "```"
   ]
  },
  {
   "cell_type": "code",
   "execution_count": 1,
   "metadata": {},
   "outputs": [],
   "source": [
    "from pyfm import pylibfm \n",
    "from sklearn.feature_extraction import DictVectorizer \n",
    "import numpy as np"
   ]
  },
  {
   "cell_type": "markdown",
   "metadata": {},
   "source": [
    "创建训练集并转换成one-hot编码的特征形式"
   ]
  },
  {
   "cell_type": "code",
   "execution_count": 2,
   "metadata": {},
   "outputs": [
    {
     "name": "stdout",
     "output_type": "stream",
     "text": [
      "[[19.  0.  0.  0.  1.  1.  0.  0.  0.]\n",
      " [33.  0.  0.  1.  0.  0.  1.  0.  0.]\n",
      " [55.  0.  1.  0.  0.  0.  0.  1.  0.]\n",
      " [20.  1.  0.  0.  0.  0.  0.  0.  1.]]\n"
     ]
    }
   ],
   "source": [
    "train = [\n",
    "    {\"user\": \"1\", \"item\": \"5\", \"age\": 19},\n",
    "    {\"user\": \"2\", \"item\": \"43\", \"age\": 33},\n",
    "    {\"user\": \"3\", \"item\": \"20\", \"age\": 55},\n",
    "    {\"user\": \"4\", \"item\": \"10\", \"age\": 20},\n",
    "]\n",
    "v = DictVectorizer()\n",
    "X = v.fit_transform(train)\n",
    "print(X.toarray())"
   ]
  },
  {
   "cell_type": "markdown",
   "metadata": {},
   "source": [
    "创建标签。这里简单创建了一个全1的标签"
   ]
  },
  {
   "cell_type": "code",
   "execution_count": 4,
   "metadata": {},
   "outputs": [
    {
     "data": {
      "text/plain": [
       "array([1., 1., 1., 1.])"
      ]
     },
     "execution_count": 4,
     "metadata": {},
     "output_type": "execute_result"
    }
   ],
   "source": [
    "y = np.repeat(1.0,X.shape[0])\n",
    "y"
   ]
  },
  {
   "cell_type": "markdown",
   "metadata": {},
   "source": [
    "训练并预测"
   ]
  },
  {
   "cell_type": "code",
   "execution_count": 5,
   "metadata": {},
   "outputs": [
    {
     "name": "stdout",
     "output_type": "stream",
     "text": [
      "Creating validation dataset of 0.01 of training for adaptive regularization\n",
      "-- Epoch 1\n",
      "Training log loss: 0.13187\n"
     ]
    },
    {
     "data": {
      "text/plain": [
       "array([0.97810867])"
      ]
     },
     "execution_count": 5,
     "metadata": {},
     "output_type": "execute_result"
    }
   ],
   "source": [
    "fm = pylibfm.FM()\n",
    "fm.fit(X,y)\n",
    "fm.predict(v.transform({\"user\": \"1\", \"item\": \"10\", \"age\": 24}))"
   ]
  },
  {
   "cell_type": "markdown",
   "metadata": {},
   "source": [
    "### 电影评分数据集实战\n",
    "数据集： http://www.grouplens.org/system/files/ml-100k.zip"
   ]
  },
  {
   "cell_type": "code",
   "execution_count": 7,
   "metadata": {},
   "outputs": [],
   "source": [
    "def loadData(filename,path=\"ml-100k/\"):\n",
    "    data = []\n",
    "    y = []\n",
    "    users=set()\n",
    "    items=set()\n",
    "    with open(path+filename) as f:\n",
    "        for line in f:\n",
    "            (user,movieid,rating,ts)=line.split('\\t')\n",
    "            data.append({ \"user_id\": str(user), \"movie_id\": str(movieid)})\n",
    "            y.append(float(rating))\n",
    "            users.add(user)\n",
    "            items.add(movieid)\n",
    "\n",
    "    return (data, np.array(y), users, items)"
   ]
  },
  {
   "cell_type": "markdown",
   "metadata": {},
   "source": [
    "导入训练集和测试集，并转换格式"
   ]
  },
  {
   "cell_type": "code",
   "execution_count": 10,
   "metadata": {},
   "outputs": [],
   "source": [
    "(train_data, y_train, train_users, train_items) = loadData(\"ua.base\")\n",
    "(test_data, y_test, test_users, test_items) = loadData(\"ua.test\")\n",
    "v = DictVectorizer()\n",
    "X_train = v.fit_transform(train_data)\n",
    "X_test = v.transform(test_data)"
   ]
  },
  {
   "cell_type": "markdown",
   "metadata": {},
   "source": [
    "训练模型并测试，训练100轮"
   ]
  },
  {
   "cell_type": "code",
   "execution_count": 11,
   "metadata": {},
   "outputs": [
    {
     "name": "stdout",
     "output_type": "stream",
     "text": [
      "Creating validation dataset of 0.01 of training for adaptive regularization\n",
      "-- Epoch 1\n",
      "Training MSE: 0.59525\n",
      "-- Epoch 2\n",
      "Training MSE: 0.51804\n",
      "-- Epoch 3\n",
      "Training MSE: 0.49046\n",
      "-- Epoch 4\n",
      "Training MSE: 0.47458\n",
      "-- Epoch 5\n",
      "Training MSE: 0.46416\n",
      "-- Epoch 6\n",
      "Training MSE: 0.45662\n",
      "-- Epoch 7\n",
      "Training MSE: 0.45099\n",
      "-- Epoch 8\n",
      "Training MSE: 0.44639\n",
      "-- Epoch 9\n",
      "Training MSE: 0.44264\n",
      "-- Epoch 10\n",
      "Training MSE: 0.43949\n",
      "-- Epoch 11\n",
      "Training MSE: 0.43675\n",
      "-- Epoch 12\n",
      "Training MSE: 0.43430\n",
      "-- Epoch 13\n",
      "Training MSE: 0.43223\n",
      "-- Epoch 14\n",
      "Training MSE: 0.43020\n",
      "-- Epoch 15\n",
      "Training MSE: 0.42851\n",
      "-- Epoch 16\n",
      "Training MSE: 0.42691\n",
      "-- Epoch 17\n",
      "Training MSE: 0.42531\n",
      "-- Epoch 18\n",
      "Training MSE: 0.42389\n",
      "-- Epoch 19\n",
      "Training MSE: 0.42255\n",
      "-- Epoch 20\n",
      "Training MSE: 0.42128\n",
      "-- Epoch 21\n",
      "Training MSE: 0.42003\n",
      "-- Epoch 22\n",
      "Training MSE: 0.41873\n",
      "-- Epoch 23\n",
      "Training MSE: 0.41756\n",
      "-- Epoch 24\n",
      "Training MSE: 0.41634\n",
      "-- Epoch 25\n",
      "Training MSE: 0.41509\n",
      "-- Epoch 26\n",
      "Training MSE: 0.41391\n",
      "-- Epoch 27\n",
      "Training MSE: 0.41274\n",
      "-- Epoch 28\n",
      "Training MSE: 0.41149\n",
      "-- Epoch 29\n",
      "Training MSE: 0.41032\n",
      "-- Epoch 30\n",
      "Training MSE: 0.40891\n",
      "-- Epoch 31\n",
      "Training MSE: 0.40774\n",
      "-- Epoch 32\n",
      "Training MSE: 0.40635\n",
      "-- Epoch 33\n",
      "Training MSE: 0.40495\n",
      "-- Epoch 34\n",
      "Training MSE: 0.40354\n",
      "-- Epoch 35\n",
      "Training MSE: 0.40203\n",
      "-- Epoch 36\n",
      "Training MSE: 0.40047\n",
      "-- Epoch 37\n",
      "Training MSE: 0.39889\n",
      "-- Epoch 38\n",
      "Training MSE: 0.39728\n",
      "-- Epoch 39\n",
      "Training MSE: 0.39562\n",
      "-- Epoch 40\n",
      "Training MSE: 0.39387\n",
      "-- Epoch 41\n",
      "Training MSE: 0.39216\n",
      "-- Epoch 42\n",
      "Training MSE: 0.39030\n",
      "-- Epoch 43\n",
      "Training MSE: 0.38847\n",
      "-- Epoch 44\n",
      "Training MSE: 0.38655\n",
      "-- Epoch 45\n",
      "Training MSE: 0.38461\n",
      "-- Epoch 46\n",
      "Training MSE: 0.38269\n",
      "-- Epoch 47\n",
      "Training MSE: 0.38068\n",
      "-- Epoch 48\n",
      "Training MSE: 0.37864\n",
      "-- Epoch 49\n",
      "Training MSE: 0.37657\n",
      "-- Epoch 50\n",
      "Training MSE: 0.37459\n",
      "-- Epoch 51\n",
      "Training MSE: 0.37253\n",
      "-- Epoch 52\n",
      "Training MSE: 0.37045\n",
      "-- Epoch 53\n",
      "Training MSE: 0.36845\n",
      "-- Epoch 54\n",
      "Training MSE: 0.36647\n",
      "-- Epoch 55\n",
      "Training MSE: 0.36448\n",
      "-- Epoch 56\n",
      "Training MSE: 0.36254\n",
      "-- Epoch 57\n",
      "Training MSE: 0.36067\n",
      "-- Epoch 58\n",
      "Training MSE: 0.35874\n",
      "-- Epoch 59\n",
      "Training MSE: 0.35690\n",
      "-- Epoch 60\n",
      "Training MSE: 0.35511\n",
      "-- Epoch 61\n",
      "Training MSE: 0.35333\n",
      "-- Epoch 62\n",
      "Training MSE: 0.35155\n",
      "-- Epoch 63\n",
      "Training MSE: 0.34992\n",
      "-- Epoch 64\n",
      "Training MSE: 0.34829\n",
      "-- Epoch 65\n",
      "Training MSE: 0.34675\n",
      "-- Epoch 66\n",
      "Training MSE: 0.34538\n",
      "-- Epoch 67\n",
      "Training MSE: 0.34393\n",
      "-- Epoch 68\n",
      "Training MSE: 0.34258\n",
      "-- Epoch 69\n",
      "Training MSE: 0.34129\n",
      "-- Epoch 70\n",
      "Training MSE: 0.34006\n",
      "-- Epoch 71\n",
      "Training MSE: 0.33885\n",
      "-- Epoch 72\n",
      "Training MSE: 0.33773\n",
      "-- Epoch 73\n",
      "Training MSE: 0.33671\n",
      "-- Epoch 74\n",
      "Training MSE: 0.33564\n",
      "-- Epoch 75\n",
      "Training MSE: 0.33468\n",
      "-- Epoch 76\n",
      "Training MSE: 0.33375\n",
      "-- Epoch 77\n",
      "Training MSE: 0.33292\n",
      "-- Epoch 78\n",
      "Training MSE: 0.33211\n",
      "-- Epoch 79\n",
      "Training MSE: 0.33131\n",
      "-- Epoch 80\n",
      "Training MSE: 0.33065\n",
      "-- Epoch 81\n",
      "Training MSE: 0.33002\n",
      "-- Epoch 82\n",
      "Training MSE: 0.32930\n",
      "-- Epoch 83\n",
      "Training MSE: 0.32882\n",
      "-- Epoch 84\n",
      "Training MSE: 0.32813\n",
      "-- Epoch 85\n",
      "Training MSE: 0.32764\n",
      "-- Epoch 86\n",
      "Training MSE: 0.32722\n",
      "-- Epoch 87\n",
      "Training MSE: 0.32677\n",
      "-- Epoch 88\n",
      "Training MSE: 0.32635\n",
      "-- Epoch 89\n",
      "Training MSE: 0.32591\n",
      "-- Epoch 90\n",
      "Training MSE: 0.32550\n",
      "-- Epoch 91\n",
      "Training MSE: 0.32513\n",
      "-- Epoch 92\n",
      "Training MSE: 0.32481\n",
      "-- Epoch 93\n",
      "Training MSE: 0.32451\n",
      "-- Epoch 94\n",
      "Training MSE: 0.32421\n",
      "-- Epoch 95\n",
      "Training MSE: 0.32397\n",
      "-- Epoch 96\n",
      "Training MSE: 0.32363\n",
      "-- Epoch 97\n",
      "Training MSE: 0.32341\n",
      "-- Epoch 98\n",
      "Training MSE: 0.32319\n",
      "-- Epoch 99\n",
      "Training MSE: 0.32293\n",
      "-- Epoch 100\n",
      "Training MSE: 0.32268\n"
     ]
    }
   ],
   "source": [
    "fm = pylibfm.FM(num_factors=10, num_iter=100, verbose=True, task=\"regression\", initial_learning_rate=0.001, learning_rate_schedule=\"optimal\")\n",
    "fm.fit(X_train,y_train)"
   ]
  },
  {
   "cell_type": "markdown",
   "metadata": {},
   "source": [
    "预测结果打印误差"
   ]
  },
  {
   "cell_type": "code",
   "execution_count": 13,
   "metadata": {},
   "outputs": [
    {
     "name": "stdout",
     "output_type": "stream",
     "text": [
      "FM MSE: 0.8873\n"
     ]
    }
   ],
   "source": [
    "preds = fm.predict(X_test)\n",
    "from sklearn.metrics import mean_squared_error\n",
    "print(\"FM MSE: %.4f\" % mean_squared_error(y_test,preds))"
   ]
  }
 ],
 "metadata": {
  "kernelspec": {
   "display_name": "Python 3",
   "language": "python",
   "name": "python3"
  },
  "language_info": {
   "codemirror_mode": {
    "name": "ipython",
    "version": 3
   },
   "file_extension": ".py",
   "mimetype": "text/x-python",
   "name": "python",
   "nbconvert_exporter": "python",
   "pygments_lexer": "ipython3",
   "version": "3.7.0"
  }
 },
 "nbformat": 4,
 "nbformat_minor": 2
}
